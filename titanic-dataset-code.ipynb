{
 "cells": [
  {
   "cell_type": "code",
   "execution_count": 1,
   "id": "2f0784eb",
   "metadata": {
    "_cell_guid": "b1076dfc-b9ad-4769-8c92-a6c4dae69d19",
    "_uuid": "8f2839f25d086af736a60e9eeb907d3b93b6e0e5",
    "execution": {
     "iopub.execute_input": "2024-09-28T16:05:34.112438Z",
     "iopub.status.busy": "2024-09-28T16:05:34.111429Z",
     "iopub.status.idle": "2024-09-28T16:05:34.944322Z",
     "shell.execute_reply": "2024-09-28T16:05:34.943298Z"
    },
    "papermill": {
     "duration": 0.839586,
     "end_time": "2024-09-28T16:05:34.946617",
     "exception": false,
     "start_time": "2024-09-28T16:05:34.107031",
     "status": "completed"
    },
    "tags": []
   },
   "outputs": [
    {
     "data": {
      "text/plain": [
       "['titanic-dataset', 'd', 'titanic']"
      ]
     },
     "execution_count": 1,
     "metadata": {},
     "output_type": "execute_result"
    }
   ],
   "source": [
    "# This Python 3 environment comes with many helpful analytics libraries installed\n",
    "# It is defined by the kaggle/python Docker image: https://github.com/kaggle/docker-python\n",
    "# For example, here's several helpful packages to load\n",
    "\n",
    "import numpy as np # linear algebra\n",
    "import pandas as pd # data processing, CSV file I/O (e.g. pd.read_csv)\n",
    "\n",
    "# Input data files are available in the read-only \"../input/\" directory\n",
    "# For example, running this (by clicking run or pressing Shift+Enter) will list all files under the input directory\n",
    "\n",
    "import os\n",
    "os.listdir('/kaggle/input')\n",
    "\n",
    "# You can write up to 20GB to the current directory (/kaggle/working/) that gets preserved as output when you create a version using \"Save & Run All\" \n",
    "# You can also write temporary files to /kaggle/temp/, but they won't be saved outside of the current session"
   ]
  },
  {
   "cell_type": "code",
   "execution_count": 2,
   "id": "73b66ca8",
   "metadata": {
    "execution": {
     "iopub.execute_input": "2024-09-28T16:05:34.953118Z",
     "iopub.status.busy": "2024-09-28T16:05:34.952647Z",
     "iopub.status.idle": "2024-09-28T16:05:36.616572Z",
     "shell.execute_reply": "2024-09-28T16:05:36.615171Z"
    },
    "papermill": {
     "duration": 1.670107,
     "end_time": "2024-09-28T16:05:36.619341",
     "exception": false,
     "start_time": "2024-09-28T16:05:34.949234",
     "status": "completed"
    },
    "tags": []
   },
   "outputs": [
    {
     "name": "stdout",
     "output_type": "stream",
     "text": [
      "Training Set Classification Report:\n",
      "               precision    recall  f1-score   support\n",
      "\n",
      "           0       0.94      0.97      0.95       444\n",
      "           1       0.95      0.90      0.92       268\n",
      "\n",
      "    accuracy                           0.94       712\n",
      "   macro avg       0.94      0.93      0.94       712\n",
      "weighted avg       0.94      0.94      0.94       712\n",
      "\n"
     ]
    }
   ],
   "source": [
    "import pandas as pd\n",
    "from sklearn.ensemble import RandomForestClassifier\n",
    "from sklearn.preprocessing import RobustScaler, MinMaxScaler\n",
    "from sklearn.metrics import classification_report\n",
    "from sklearn.model_selection import train_test_split\n",
    "\n",
    "# Load the preprocessed DataFrame (X is features, y is the target variable)\n",
    "df = pd.read_csv(\"/kaggle/input/titanic/train.csv\")\n",
    "\n",
    "# Drop unnecessary columns\n",
    "dropped_columns = [\"PassengerId\", \"Name\", \"Ticket\", \"Cabin\", \"Embarked\"]\n",
    "df.drop(dropped_columns, inplace=True, axis=1)\n",
    "\n",
    "# Map 'Sex' to 0 and 1\n",
    "df['Sex'] = df['Sex'].map({'male': 0, 'female': 1})\n",
    "\n",
    "# Separate features and target variable\n",
    "X = df.drop(\"Survived\", axis=1)  # Features\n",
    "y = df[\"Survived\"]  # Target variable\n",
    "\n",
    "# Fill missing values in the 'Age' column with the mean age\n",
    "mean_age = X.loc[X['Age'].notnull(), 'Age'].mean()\n",
    "X['Age'] = X['Age'].fillna(mean_age)\n",
    "\n",
    "# Apply RobustScaler to features\n",
    "robust_scaler = RobustScaler()\n",
    "X_scaled = robust_scaler.fit_transform(X)\n",
    "\n",
    "# Apply MinMaxScaler to features\n",
    "scaler = MinMaxScaler()\n",
    "X_scaled = scaler.fit_transform(X_scaled)\n",
    "\n",
    "# Split the data into training and testing sets\n",
    "X_train, X_test, y_train, y_test = train_test_split(X_scaled, y, test_size=0.2, random_state=42)\n",
    "\n",
    "# Initialize the Random Forest Classifier\n",
    "rf_classifier = RandomForestClassifier(n_estimators=5, random_state=42)\n",
    "\n",
    "# Fit the model on the training set\n",
    "rf_classifier.fit(X_train, y_train)\n",
    "\n",
    "# Make predictions on the training set\n",
    "y_train_pred = rf_classifier.predict(X_train)\n",
    "\n",
    "# Generate a classification report for the training set\n",
    "train_report = classification_report(y_train, y_train_pred)\n",
    "print(\"Training Set Classification Report:\\n\", train_report)\n",
    "\n",
    "# Load the test dataset provided by Kaggle\n",
    "test_df = pd.read_csv(\"/kaggle/input/titanic/test.csv\")\n",
    "\n",
    "# Drop unnecessary columns from the test dataset\n",
    "dropped_columns_test = [\"Name\", \"Ticket\", \"Cabin\", \"Embarked\"]\n",
    "test_df.drop(dropped_columns_test, inplace=True, axis=1)\n",
    "\n",
    "# Map 'Sex' to 0 and 1\n",
    "test_df['Sex'] = test_df['Sex'].map({'male': 0, 'female': 1})\n",
    "\n",
    "# Fill missing values in the 'Age' column with the mean age\n",
    "mean_age_test = test_df['Age'].mean()\n",
    "test_df['Age'] = test_df['Age'].fillna(mean_age_test)\n",
    "\n",
    "# Separate features from the test dataset\n",
    "X_test_final = test_df.drop(\"PassengerId\", axis=1)  # Features\n",
    "\n",
    "# Fill missing values in the test set with mean values\n",
    "X_test_final = X_test_final.fillna(X_test_final.mean())\n",
    "\n",
    "# Apply RobustScaler to features\n",
    "X_test_final_scaled = robust_scaler.transform(X_test_final)\n",
    "\n",
    "# Apply MinMaxScaler to features\n",
    "X_test_final_scaled = scaler.transform(X_test_final_scaled)\n",
    "\n",
    "# Make predictions on the final test set\n",
    "final_test_predictions = rf_classifier.predict(X_test_final_scaled)\n",
    "\n",
    "# Create a submission DataFrame with 'PassengerId' and 'Survived'\n",
    "submission_df = pd.DataFrame({'PassengerId': test_df['PassengerId'], 'Survived': final_test_predictions})\n",
    "submission_df.to_csv('/kaggle/working/submission.csv', index=False)"
   ]
  },
  {
   "cell_type": "code",
   "execution_count": null,
   "id": "5e691ea1",
   "metadata": {
    "execution": {
     "iopub.execute_input": "2024-01-07T10:47:41.871473Z",
     "iopub.status.busy": "2024-01-07T10:47:41.871028Z",
     "iopub.status.idle": "2024-01-07T10:47:41.897441Z",
     "shell.execute_reply": "2024-01-07T10:47:41.895831Z",
     "shell.execute_reply.started": "2024-01-07T10:47:41.871443Z"
    },
    "papermill": {
     "duration": 0.002146,
     "end_time": "2024-09-28T16:05:36.624170",
     "exception": false,
     "start_time": "2024-09-28T16:05:36.622024",
     "status": "completed"
    },
    "tags": []
   },
   "outputs": [],
   "source": []
  },
  {
   "cell_type": "code",
   "execution_count": null,
   "id": "456e0fa7",
   "metadata": {
    "papermill": {
     "duration": 0.002119,
     "end_time": "2024-09-28T16:05:36.628575",
     "exception": false,
     "start_time": "2024-09-28T16:05:36.626456",
     "status": "completed"
    },
    "tags": []
   },
   "outputs": [],
   "source": []
  }
 ],
 "metadata": {
  "kaggle": {
   "accelerator": "none",
   "dataSources": [
    {
     "databundleVersionId": 26502,
     "sourceId": 3136,
     "sourceType": "competition"
    },
    {
     "datasetId": 4271165,
     "sourceId": 7354270,
     "sourceType": "datasetVersion"
    },
    {
     "datasetId": 4271785,
     "sourceId": 7355182,
     "sourceType": "datasetVersion"
    }
   ],
   "dockerImageVersionId": 30626,
   "isGpuEnabled": false,
   "isInternetEnabled": false,
   "language": "python",
   "sourceType": "notebook"
  },
  "kernelspec": {
   "display_name": "Python 3",
   "language": "python",
   "name": "python3"
  },
  "language_info": {
   "codemirror_mode": {
    "name": "ipython",
    "version": 3
   },
   "file_extension": ".py",
   "mimetype": "text/x-python",
   "name": "python",
   "nbconvert_exporter": "python",
   "pygments_lexer": "ipython3",
   "version": "3.10.12"
  },
  "papermill": {
   "default_parameters": {},
   "duration": 7.168992,
   "end_time": "2024-09-28T16:05:37.251416",
   "environment_variables": {},
   "exception": null,
   "input_path": "__notebook__.ipynb",
   "output_path": "__notebook__.ipynb",
   "parameters": {},
   "start_time": "2024-09-28T16:05:30.082424",
   "version": "2.4.0"
  }
 },
 "nbformat": 4,
 "nbformat_minor": 5
}
